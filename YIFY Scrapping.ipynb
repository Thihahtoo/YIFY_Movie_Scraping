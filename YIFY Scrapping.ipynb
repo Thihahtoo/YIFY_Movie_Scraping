{
 "cells": [
  {
   "cell_type": "code",
   "execution_count": 3,
   "metadata": {},
   "outputs": [],
   "source": [
    "import requests\n",
    "import bs4\n",
    "\n",
    "def find_movie(min_rating = 6, released_year = 2015, num_of_page = 10):\n",
    "    movie_list = []\n",
    "\n",
    "    for page_number in range(1,num_of_page+1):\n",
    "        print(f'Scanning Page {page_number} of {num_of_page}...')\n",
    "        res = requests.get(f'https://yts.mx/browse-movies?page={page_number}')\n",
    "        soup = bs4.BeautifulSoup(res.text,'lxml')\n",
    "        movies = soup.select('.browse-movie-wrap.col-xs-10.col-sm-4.col-md-5.col-lg-4')\n",
    "\n",
    "        for movie in movies:\n",
    "            movie_name_contents = movie.select('.browse-movie-bottom')[0].select('a')[0].contents\n",
    "\n",
    "            # check the movie is rated or not\n",
    "            if(movie.select('.rating') == []):\n",
    "                continue\n",
    "\n",
    "            rating = float(movie.select('.rating')[0].contents[0].split(' ')[0])\n",
    "            year = int(movie.select('.browse-movie-year')[0].contents[0])\n",
    "            if rating >= min_rating and year == released_year:\n",
    "\n",
    "                # some movie include [CN] or [JA] but other don't\n",
    "                # eg. [<span style=\"color: #ACD7DE; font-size: 75%;\">[JA]</span>,' Gamera 3: Revenge of Iris'] or\n",
    "                # [' Gamera 3: Revenge of Iris']\n",
    "                # check the length to get the name of movie \n",
    "\n",
    "                if len(movie_name_contents) < 2:\n",
    "                    movie_list.append((movie_name_contents[0].strip(),rating,year))\n",
    "\n",
    "                else:\n",
    "                    movie_list.append((movie_name_contents[1].strip(),rating,year))\n",
    "                    \n",
    "    return movie_list"
   ]
  },
  {
   "cell_type": "code",
   "execution_count": 4,
   "metadata": {},
   "outputs": [
    {
     "name": "stdout",
     "output_type": "stream",
     "text": [
      "Welcome to YIFY Movie Scrapping\n",
      "\n",
      "Enter the minimum rating: 7\n",
      "Enter the released year: 2020\n",
      "How many pages you want to search?(max = 1013): 10\n",
      "Finding...\n",
      "Scanning Page 1 of 10...\n",
      "Scanning Page 2 of 10...\n",
      "Scanning Page 3 of 10...\n",
      "Scanning Page 4 of 10...\n",
      "Scanning Page 5 of 10...\n",
      "Scanning Page 6 of 10...\n",
      "Scanning Page 7 of 10...\n",
      "Scanning Page 8 of 10...\n",
      "Scanning Page 9 of 10...\n",
      "Scanning Page 10 of 10...\n",
      "-----\n",
      "5 Results.\n",
      "\n",
      "('A Feral World', 9.9, 2020)\n",
      "('Fernando Torres: El Último Símbolo', 8.5, 2020)\n",
      "('Ride Your Dream', 8.7, 2020)\n",
      "('Bloody Nose, Empty Pockets', 7.3, 2020)\n",
      "('The Devil All the Time', 7.2, 2020)\n"
     ]
    }
   ],
   "source": [
    "print('Welcome to YIFY Movie Scrapping\\n')\n",
    "rating = float(input('Enter the minimum rating: '))\n",
    "year = int(input('Enter the released year: '))\n",
    "page = int(input('How many pages you want to search?(max = 1013): '))\n",
    "print('Finding...')\n",
    "\n",
    "movies = find_movie(rating,year,page)\n",
    "\n",
    "print(f'-----\\n{len(movies)} Results.\\n')\n",
    "for movie in movies:\n",
    "    print(movie)"
   ]
  },
  {
   "cell_type": "code",
   "execution_count": null,
   "metadata": {},
   "outputs": [],
   "source": []
  }
 ],
 "metadata": {
  "kernelspec": {
   "display_name": "Python 3",
   "language": "python",
   "name": "python3"
  },
  "language_info": {
   "codemirror_mode": {
    "name": "ipython",
    "version": 3
   },
   "file_extension": ".py",
   "mimetype": "text/x-python",
   "name": "python",
   "nbconvert_exporter": "python",
   "pygments_lexer": "ipython3",
   "version": "3.7.4"
  }
 },
 "nbformat": 4,
 "nbformat_minor": 2
}
